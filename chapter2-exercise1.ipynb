{
 "metadata": {
  "name": ""
 },
 "nbformat": 3,
 "nbformat_minor": 0,
 "worksheets": [
  {
   "cells": [
    {
     "cell_type": "code",
     "collapsed": false,
     "input": [
      "import sklearn as ak\n",
      "import numpy as np\n",
      "import matplotlib.pyplot as plt\n",
      "from sklearn.datasets import fetch_olivetti_faces\n",
      "\n",
      "faces = fetch_olivetti_faces()\n",
      "print faces.DESCR"
     ],
     "language": "python",
     "metadata": {},
     "outputs": [
      {
       "output_type": "stream",
       "stream": "stdout",
       "text": [
        "downloading Olivetti faces from http://cs.nyu.edu/~roweis/data/olivettifaces.mat to /home/nephiw/scikit_learn_data\n",
        "Modified Olivetti faces dataset.\n",
        "\n",
        "The original database was available from (now defunct)\n",
        "\n",
        "    http://www.uk.research.att.com/facedatabase.html\n",
        "\n",
        "The version retrieved here comes in MATLAB format from the personal\n",
        "web page of Sam Roweis:\n",
        "\n",
        "    http://www.cs.nyu.edu/~roweis/\n",
        "\n",
        "There are ten different images of each of 40 distinct subjects. For some\n",
        "subjects, the images were taken at different times, varying the lighting,\n",
        "facial expressions (open / closed eyes, smiling / not smiling) and facial\n",
        "details (glasses / no glasses). All the images were taken against a dark\n",
        "homogeneous background with the subjects in an upright, frontal position (with\n",
        "tolerance for some side movement).\n",
        "\n",
        "The original dataset consisted of 92 x 112, while the Roweis version\n",
        "consists of 64x64 images.\n"
       ]
      },
      {
       "output_type": "stream",
       "stream": "stdout",
       "text": [
        "\n"
       ]
      }
     ],
     "prompt_number": 2
    },
    {
     "cell_type": "code",
     "collapsed": false,
     "input": [
      "# Exploring the dataset\n",
      "print faces.keys()\n",
      "print faces.images.shape\n",
      "print faces.data.shape\n",
      "print faces.target.shape\n",
      "print \"Max: %f\" % np.max(faces.data)\n",
      "print \"Min: %f\" % np.min(faces.data)\n",
      "print \"Mean: %f\" % np.mean(faces.data)"
     ],
     "language": "python",
     "metadata": {},
     "outputs": [
      {
       "output_type": "stream",
       "stream": "stdout",
       "text": [
        "['images', 'data', 'target', 'DESCR']\n",
        "(400, 64, 64)\n",
        "(400, 4096)\n",
        "(400,)\n",
        "Max: 1.000000\n",
        "Min: 0.000000\n",
        "Mean: 0.547046\n"
       ]
      }
     ],
     "prompt_number": 9
    },
    {
     "cell_type": "code",
     "collapsed": false,
     "input": [
      "def print_faces(images, target, top_n):\n",
      "    # set up the figure size in inches\n",
      "    fig = plt.figure(figsize=(12, 12))\n",
      "    fig.subplots_adjust(left=0, right=1, bottom=0, top=0.85, hspace=0.05, wspace=0.05)\n",
      "    for i in range(top_n):\n",
      "        # plot the image in a matrix of 20 x 20\n",
      "        p = fig.add_subplot(20, 20, i + 1, xticks=[], yticks=[])\n",
      "        p.imshow(images[i], cmap=plt.cm.bone)\n",
      "        # label the image with the target value\n",
      "        p.text(0, 14, str(target[i]))\n",
      "        p.text(0, 60, str(i))\n",
      "\n",
      "print_faces(faces.images, faces.target, 20)\n",
      "plt.show()\n",
      "        "
     ],
     "language": "python",
     "metadata": {},
     "outputs": [],
     "prompt_number": 17
    },
    {
     "cell_type": "code",
     "collapsed": false,
     "input": [
      "from sklearn.svm import SVC\n",
      "from sklearn.cross_validation import train_test_split\n",
      "from sklearn.cross_validation import cross_val_score, KFold\n",
      "from scipy.stats import sem\n",
      "\n",
      "svc_1 = SVC(kernel='linear')\n",
      "x_train, x_test, y_train, y_test = train_test_split(faces.data, faces.target, test_size=0.25, random_state=0)\n",
      "def evaluate_cross_validation(clf, x, y, K):\n",
      "    # create a k-fold cross validation iterator\n",
      "    cv = KFold(len(y), K, shuffle=True, random_state=0)\n",
      "    # by defaul the score used is the one returned by score method of the estimator (accuracy)\n",
      "    scores = cross_val_score(clf, x, y, cv=cv)\n",
      "    print scores\n",
      "    print (\"Mean score: {0:.3f} (+/- {1:.3f})\").format(np.mean(scores), sem(scores))\n",
      "\n",
      "evaluate_cross_validation(svc_1, x_train, y_train, 5)\n"
     ],
     "language": "python",
     "metadata": {},
     "outputs": [
      {
       "output_type": "stream",
       "stream": "stdout",
       "text": [
        "[ 0.93333333  0.86666667  0.91666667  0.93333333  0.91666667]\n",
        "Mean score: 0.913 (+/- 0.012)\n"
       ]
      }
     ],
     "prompt_number": 20
    },
    {
     "cell_type": "code",
     "collapsed": false,
     "input": [
      "from sklearn import metrics\n",
      "def train_and_evaluate(clf, x_train, x_test, y_train, y_test):\n",
      "    clf.fit(x_train, y_train)\n",
      "    \n",
      "    print \"Accuracy on training set: \"\n",
      "    print clf.score(x_train, y_train)\n",
      "    print \"Accuracy on testing set: \"\n",
      "    print clf.score(x_test, y_test)\n",
      "    \n",
      "    y_pred = clf.predict(x_test)\n",
      "    print \"Classification Report: \"\n",
      "    print metrics.classification_report(y_test, y_pred)\n",
      "    print \"Confusion Matrix: \"\n",
      "    print metrics.confusion_matrix(y_test, y_pred)\n",
      "    \n",
      "train_and_evaluate(svc_1, x_train, x_test, y_train, y_test)"
     ],
     "language": "python",
     "metadata": {},
     "outputs": [
      {
       "output_type": "stream",
       "stream": "stdout",
       "text": [
        "Accuracy on training set: \n",
        "1.0"
       ]
      },
      {
       "output_type": "stream",
       "stream": "stdout",
       "text": [
        "\n",
        "Accuracy on testing set: \n",
        "0.99"
       ]
      },
      {
       "output_type": "stream",
       "stream": "stdout",
       "text": [
        "\n",
        "Classification Report: "
       ]
      },
      {
       "output_type": "stream",
       "stream": "stdout",
       "text": [
        "\n",
        "             precision    recall  f1-score   support\n",
        "\n",
        "          0       0.86      1.00      0.92         6\n",
        "          1       1.00      1.00      1.00         4\n",
        "          2       1.00      1.00      1.00         2\n",
        "          3       1.00      1.00      1.00         1\n",
        "          4       1.00      1.00      1.00         1\n",
        "          5       1.00      1.00      1.00         5\n",
        "          6       1.00      1.00      1.00         4\n",
        "          7       1.00      0.67      0.80         3\n",
        "          9       1.00      1.00      1.00         1\n",
        "         10       1.00      1.00      1.00         4\n",
        "         11       1.00      1.00      1.00         1\n",
        "         12       1.00      1.00      1.00         2\n",
        "         13       1.00      1.00      1.00         3\n",
        "         14       1.00      1.00      1.00         5\n",
        "         15       1.00      1.00      1.00         3\n",
        "         17       1.00      1.00      1.00         6\n",
        "         19       1.00      1.00      1.00         4\n",
        "         20       1.00      1.00      1.00         1\n",
        "         21       1.00      1.00      1.00         1\n",
        "         22       1.00      1.00      1.00         2\n",
        "         23       1.00      1.00      1.00         1\n",
        "         24       1.00      1.00      1.00         2\n",
        "         25       1.00      1.00      1.00         2\n",
        "         26       1.00      1.00      1.00         4\n",
        "         27       1.00      1.00      1.00         1\n",
        "         28       1.00      1.00      1.00         2\n",
        "         29       1.00      1.00      1.00         3\n",
        "         30       1.00      1.00      1.00         4\n",
        "         31       1.00      1.00      1.00         3\n",
        "         32       1.00      1.00      1.00         3\n",
        "         33       1.00      1.00      1.00         2\n",
        "         34       1.00      1.00      1.00         3\n",
        "         35       1.00      1.00      1.00         1\n",
        "         36       1.00      1.00      1.00         3\n",
        "         37       1.00      1.00      1.00         3\n",
        "         38       1.00      1.00      1.00         1\n",
        "         39       1.00      1.00      1.00         3\n",
        "\n",
        "avg / total       0.99      0.99      0.99       100\n",
        "\n",
        "Confusion Matrix: \n",
        "[[6 0 0 ..., 0 0 0]\n",
        " [0 4 0 ..., 0 0 0]\n",
        " [0 0 2 ..., 0 0 0]\n",
        " ..., \n",
        " [0 0 0 ..., 3 0 0]\n",
        " [0 0 0 ..., 0 1 0]\n",
        " [0 0 0 ..., 0 0 3]]\n"
       ]
      }
     ],
     "prompt_number": 22
    },
    {
     "cell_type": "code",
     "collapsed": false,
     "input": [
      "# Lets classify the faces as people with and without glasses...\n",
      "# the index ranges of images of people with glasses\n",
      "\n",
      "glasses = [(10, 19),   (30, 32),   (37, 38),   (50, 59),   (63, 64),\n",
      "           (69, 69),   (120, 121), (124, 129), (130, 139), (160, 161),\n",
      "           (164, 169), (180, 182), (185, 185), (189, 189), (190, 192),\n",
      "           (194, 194), (196, 199), (260, 269), (270, 279), (300, 309),\n",
      "           (330, 339), (258, 259), (360, 369)]\n",
      "\n",
      "print_faces(faces.images, faces.target, 400)\n",
      "plt.show()"
     ],
     "language": "python",
     "metadata": {},
     "outputs": [],
     "prompt_number": 27
    },
    {
     "cell_type": "code",
     "collapsed": false,
     "input": [
      "def create_target(segments):\n",
      "    # create a new y array of target size initialized with zeros\n",
      "    y = np.zeros(faces.target.shape[0])\n",
      "    # put 1 in the specificed segments\n",
      "    for (start, end) in segments:\n",
      "        y[start:end + 1] = 1\n",
      "    return y\n",
      "\n",
      "target_glasses = create_target(glasses)\n",
      "x_train, x_test, y_train, y_test = train_test_split(faces.data, target_glasses, test_size=0.25, random_state=0)\n",
      "svc_2 = SVC(kernel='linear')\n",
      "evaluate_cross_validation(svc_2, x_train, y_train, 5)\n",
      "train_and_evaluate(svc_2, x_train, x_test, y_train, y_test)"
     ],
     "language": "python",
     "metadata": {},
     "outputs": [
      {
       "output_type": "stream",
       "stream": "stdout",
       "text": [
        "[ 0.98333333  0.95        0.96666667  0.95        0.91666667]\n",
        "Mean score: 0.953 (+/- 0.011)\n",
        "Accuracy on training set: "
       ]
      },
      {
       "output_type": "stream",
       "stream": "stdout",
       "text": [
        "\n",
        "1.0"
       ]
      },
      {
       "output_type": "stream",
       "stream": "stdout",
       "text": [
        "\n",
        "Accuracy on testing set: \n",
        "0.99"
       ]
      },
      {
       "output_type": "stream",
       "stream": "stdout",
       "text": [
        "\n",
        "Classification Report: "
       ]
      },
      {
       "output_type": "stream",
       "stream": "stdout",
       "text": [
        "\n",
        "             precision    recall  f1-score   support\n",
        "\n",
        "        0.0       1.00      0.99      0.99        67\n",
        "        1.0       0.97      1.00      0.99        33\n",
        "\n",
        "avg / total       0.99      0.99      0.99       100\n",
        "\n",
        "Confusion Matrix: \n",
        "[[66  1]\n",
        " [ 0 33]]\n"
       ]
      }
     ],
     "prompt_number": 30
    },
    {
     "cell_type": "code",
     "collapsed": false,
     "input": [
      "x_test = faces.data[30:40]\n",
      "y_test = target_glasses[30:40]\n",
      "print y_test.shape[0]"
     ],
     "language": "python",
     "metadata": {},
     "outputs": [
      {
       "output_type": "stream",
       "stream": "stdout",
       "text": [
        "10\n"
       ]
      }
     ],
     "prompt_number": 31
    },
    {
     "cell_type": "code",
     "collapsed": false,
     "input": [
      "select = np.ones(target_glasses.shape[0])\n",
      "select[30:40] = 0\n",
      "x_train = faces.data[select == 1]\n",
      "y_train = target_glasses[select == 1]\n",
      "print y_train.shape[0]"
     ],
     "language": "python",
     "metadata": {},
     "outputs": [
      {
       "output_type": "stream",
       "stream": "stdout",
       "text": [
        "390\n"
       ]
      }
     ],
     "prompt_number": 32
    },
    {
     "cell_type": "code",
     "collapsed": false,
     "input": [
      "svc_3 = SVC(kernel='linear')\n",
      "train_and_evaluate(svc_3, x_train, x_test, y_train, y_test)"
     ],
     "language": "python",
     "metadata": {},
     "outputs": [
      {
       "output_type": "stream",
       "stream": "stdout",
       "text": [
        "Accuracy on training set: \n",
        "1.0"
       ]
      },
      {
       "output_type": "stream",
       "stream": "stdout",
       "text": [
        "\n",
        "Accuracy on testing set: \n",
        "0.9\n",
        "Classification Report: \n",
        "             precision    recall  f1-score   support\n",
        "\n",
        "        0.0       0.83      1.00      0.91         5\n",
        "        1.0       1.00      0.80      0.89         5\n",
        "\n",
        "avg / total       0.92      0.90      0.90        10\n",
        "\n",
        "Confusion Matrix: \n",
        "[[5 0]\n",
        " [1 4]]\n"
       ]
      }
     ],
     "prompt_number": 33
    },
    {
     "cell_type": "code",
     "collapsed": false,
     "input": [
      "y_pred = svc_3.predict(x_test)\n",
      "eval_faces = [np.reshape(a, (64, 64)) for a in x_test]\n",
      "print_faces(eval_faces, y_pred, 10)\n",
      "plt.show()"
     ],
     "language": "python",
     "metadata": {},
     "outputs": [],
     "prompt_number": 35
    },
    {
     "cell_type": "code",
     "collapsed": false,
     "input": [],
     "language": "python",
     "metadata": {},
     "outputs": [],
     "prompt_number": 34
    },
    {
     "cell_type": "code",
     "collapsed": false,
     "input": [],
     "language": "python",
     "metadata": {},
     "outputs": []
    }
   ],
   "metadata": {}
  }
 ]
}